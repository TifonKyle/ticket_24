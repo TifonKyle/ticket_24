{
  "nbformat": 4,
  "nbformat_minor": 0,
  "metadata": {
    "colab": {
      "provenance": [],
      "authorship_tag": "ABX9TyOooc8E5RbA/mhYDA5t6qsj",
      "include_colab_link": true
    },
    "kernelspec": {
      "name": "python3",
      "display_name": "Python 3"
    },
    "language_info": {
      "name": "python"
    }
  },
  "cells": [
    {
      "cell_type": "markdown",
      "metadata": {
        "id": "view-in-github",
        "colab_type": "text"
      },
      "source": [
        "<a href=\"https://colab.research.google.com/github/TifonKyle/ticket_24/blob/main/algo%20por%20mejorar.ipynb\" target=\"_parent\"><img src=\"https://colab.research.google.com/assets/colab-badge.svg\" alt=\"Open In Colab\"/></a>"
      ]
    },
    {
      "cell_type": "code",
      "source": [],
      "metadata": {
        "id": "ErVIZN_sE8p7"
      },
      "execution_count": null,
      "outputs": []
    },
    {
      "cell_type": "code",
      "execution_count": null,
      "metadata": {
        "id": "7tYYn_sk_-cp"
      },
      "outputs": [],
      "source": [
        "#--> programa 1 : juego de dados (dos jugadores)...\n",
        "#Cada jugador ingresa su nombre e inicia el lanzamiento, el cual da al azar una cantidad, presentandose que la cantidad más alta asegura el puesto ganador\n",
        "\n",
        "import random\n",
        "\n",
        "print (\"Bienvenido a un juego de dados\")\n",
        "print (\"________________________________________________\")\n",
        "print (\"Este requiere de dos jugadores para avanzar, asÃ \\n que busca a un enemigo o amigo para continuar\")\n",
        "print (\"________________________________________________\")\n",
        "\n",
        "nombre1 = input(\"Hola, jugador 1...Coloca tu nombre para avanzar: \")\n",
        "nombre2 = input(\"Hola, jugador 2...Haznos saber tu nombre para avanzar: \")\n",
        "print (\"Lanzamiento de dados\")\n",
        "input (f\" {nombre1} presiona enter para ver que tanta suertes tienes con la cantidad resultante\")\n",
        "lanzamientnoJugador1 = random.randint (1,6)\n",
        "print (f\"{nombre1} sacaste {lanzamientnoJugador1}\")\n",
        "\n",
        "input (f\" {nombre2} presiona enter y descubre la cantidad que tienes\")\n",
        "lanzamientnoJugador2 = random.randint (1,6)\n",
        "print (f\" {nombre2} sacaste {lanzamientnoJugador2}\")\n",
        "\n",
        "if lanzamientnoJugador1 > lanzamientnoJugador2:\n",
        "    print (f\"el ganador es {nombre1}\")\n",
        "elif lanzamientnoJugador2 > lanzamientnoJugador1:\n",
        "    print (f\"el ganador es {nombre2}\")\n",
        "else:\n",
        "    print (f\" {nombre1} y {nombre2} empataron\")\n",
        "\n",
        "#--> programa 2 : juego de piedra, papel y tijera (un jugador)\n",
        "# Los objetos pertenece a un número repectivo. El jugador lo tendrá que seleccionar y se enfrentará a una computadora que seleccionará uno al azar\n",
        "import random\n",
        "print (\"Bienvenido, vas a jugar piedra, papel o tijera contra el computador\")\n",
        "print (\"Para PIEDRA digita: 1 \\nPara PAPEL digita: 2 \\nPara TIJERA digita: 3\" )\n",
        "miEleccion = int (input (\"Coloque el número correspondiente al objetoque esea sacar: \"))\n",
        "if miEleccion ==1:\n",
        "    print (\"ELEGISTE PIEDRA\")\n",
        "elif miEleccion ==2:\n",
        "    print (\"ELEGISTE PAPEL\")\n",
        "elif miEleccion ==3:\n",
        "    print (\"ELEGISTE TIJERA\")\n",
        "else:\n",
        "    print (\"DEBE ELEGIR UN NÚMERO DEL 1 AL 3\")\n",
        "\n",
        "eleccionCompu = random.randint (1,3)\n",
        "\n",
        "if eleccionCompu ==1:\n",
        "    print(\"LA COMPU ELIGIO PIEDRA\")\n",
        "elif eleccionCompu ==2:\n",
        "    print (\"LA COMPU ELIGIO PAPEL\")\n",
        "else:\n",
        "    print (\"LA COMPU ELIGIO TIJERA\")\n",
        "\n",
        "\n",
        "if miEleccion ==1 and eleccionCompu ==1:\n",
        "    print (\"NADIE GANA\")\n",
        "elif miEleccion ==2 and eleccionCompu ==2:\n",
        "    print (\"NADIE GANA\")\n",
        "elif miEleccion ==3 and eleccionCompu ==3:\n",
        "    print (\"NADIE GANA\")\n",
        "elif miEleccion ==1 and eleccionCompu ==2:\n",
        "     print (\"TE GANÓ LA COMPU XD\")\n",
        "elif miEleccion ==1 and eleccionCompu ==3:\n",
        "     print (\"FELICIDADES, LE GANASTE A LA COMPU\")\n",
        "elif miEleccion ==2 and eleccionCompu ==1:\n",
        "     print (\"FELICIDADES, LE GANASTE A LA COMPU\")\n",
        "elif miEleccion ==2 and eleccionCompu==3:\n",
        "     print (\"TE GANÓ LA COMPU XD\")\n",
        "elif miEleccion ==3 and eleccionCompu ==1:\n",
        "     print (\"TE GANÓ LA COMPU\")\n",
        "elif miEleccion ==3 and eleccionCompu ==2:\n",
        "     print (\"FELICIDADES, LE GANASTE A LA COMPU\")\n",
        "\n",
        "#--> programa 3 : Hacer un reporte\n",
        "# El estudiante ingresa sus faltas, las cuales pertenecerán unicamente a C\n",
        "\n",
        "print (\"reporte de comportamiento del estudiante\")\n",
        "print (\"Califique el comportamiento del estudiante del 1 al 3 a lo largo de estos dos semestres\")\n",
        "def reporte (**comportamiento):\n",
        "    if sum in comportamiento >= 4:\n",
        "        print (\"Su comportamiento es de c\")\n",
        "    elif sum in comportamiento"
      ]
    }
  ]
}